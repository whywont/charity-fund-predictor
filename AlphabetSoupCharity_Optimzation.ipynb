{
 "cells": [
  {
   "cell_type": "code",
   "execution_count": 1,
   "metadata": {},
   "outputs": [
    {
     "data": {
      "text/html": [
       "<div>\n",
       "<style scoped>\n",
       "    .dataframe tbody tr th:only-of-type {\n",
       "        vertical-align: middle;\n",
       "    }\n",
       "\n",
       "    .dataframe tbody tr th {\n",
       "        vertical-align: top;\n",
       "    }\n",
       "\n",
       "    .dataframe thead th {\n",
       "        text-align: right;\n",
       "    }\n",
       "</style>\n",
       "<table border=\"1\" class=\"dataframe\">\n",
       "  <thead>\n",
       "    <tr style=\"text-align: right;\">\n",
       "      <th></th>\n",
       "      <th>EIN</th>\n",
       "      <th>NAME</th>\n",
       "      <th>APPLICATION_TYPE</th>\n",
       "      <th>AFFILIATION</th>\n",
       "      <th>CLASSIFICATION</th>\n",
       "      <th>USE_CASE</th>\n",
       "      <th>ORGANIZATION</th>\n",
       "      <th>STATUS</th>\n",
       "      <th>INCOME_AMT</th>\n",
       "      <th>SPECIAL_CONSIDERATIONS</th>\n",
       "      <th>ASK_AMT</th>\n",
       "      <th>IS_SUCCESSFUL</th>\n",
       "    </tr>\n",
       "  </thead>\n",
       "  <tbody>\n",
       "    <tr>\n",
       "      <th>0</th>\n",
       "      <td>10520599</td>\n",
       "      <td>BLUE KNIGHTS MOTORCYCLE CLUB</td>\n",
       "      <td>T10</td>\n",
       "      <td>Independent</td>\n",
       "      <td>C1000</td>\n",
       "      <td>ProductDev</td>\n",
       "      <td>Association</td>\n",
       "      <td>1</td>\n",
       "      <td>0</td>\n",
       "      <td>N</td>\n",
       "      <td>5000</td>\n",
       "      <td>1</td>\n",
       "    </tr>\n",
       "    <tr>\n",
       "      <th>1</th>\n",
       "      <td>10531628</td>\n",
       "      <td>AMERICAN CHESAPEAKE CLUB CHARITABLE TR</td>\n",
       "      <td>T3</td>\n",
       "      <td>Independent</td>\n",
       "      <td>C2000</td>\n",
       "      <td>Preservation</td>\n",
       "      <td>Co-operative</td>\n",
       "      <td>1</td>\n",
       "      <td>1-9999</td>\n",
       "      <td>N</td>\n",
       "      <td>108590</td>\n",
       "      <td>1</td>\n",
       "    </tr>\n",
       "    <tr>\n",
       "      <th>2</th>\n",
       "      <td>10547893</td>\n",
       "      <td>ST CLOUD PROFESSIONAL FIREFIGHTERS</td>\n",
       "      <td>T5</td>\n",
       "      <td>CompanySponsored</td>\n",
       "      <td>C3000</td>\n",
       "      <td>ProductDev</td>\n",
       "      <td>Association</td>\n",
       "      <td>1</td>\n",
       "      <td>0</td>\n",
       "      <td>N</td>\n",
       "      <td>5000</td>\n",
       "      <td>0</td>\n",
       "    </tr>\n",
       "    <tr>\n",
       "      <th>3</th>\n",
       "      <td>10553066</td>\n",
       "      <td>SOUTHSIDE ATHLETIC ASSOCIATION</td>\n",
       "      <td>T3</td>\n",
       "      <td>CompanySponsored</td>\n",
       "      <td>C2000</td>\n",
       "      <td>Preservation</td>\n",
       "      <td>Trust</td>\n",
       "      <td>1</td>\n",
       "      <td>10000-24999</td>\n",
       "      <td>N</td>\n",
       "      <td>6692</td>\n",
       "      <td>1</td>\n",
       "    </tr>\n",
       "    <tr>\n",
       "      <th>4</th>\n",
       "      <td>10556103</td>\n",
       "      <td>GENETIC RESEARCH INSTITUTE OF THE DESERT</td>\n",
       "      <td>T3</td>\n",
       "      <td>Independent</td>\n",
       "      <td>C1000</td>\n",
       "      <td>Heathcare</td>\n",
       "      <td>Trust</td>\n",
       "      <td>1</td>\n",
       "      <td>100000-499999</td>\n",
       "      <td>N</td>\n",
       "      <td>142590</td>\n",
       "      <td>1</td>\n",
       "    </tr>\n",
       "  </tbody>\n",
       "</table>\n",
       "</div>"
      ],
      "text/plain": [
       "        EIN                                      NAME APPLICATION_TYPE  \\\n",
       "0  10520599              BLUE KNIGHTS MOTORCYCLE CLUB              T10   \n",
       "1  10531628    AMERICAN CHESAPEAKE CLUB CHARITABLE TR               T3   \n",
       "2  10547893        ST CLOUD PROFESSIONAL FIREFIGHTERS               T5   \n",
       "3  10553066            SOUTHSIDE ATHLETIC ASSOCIATION               T3   \n",
       "4  10556103  GENETIC RESEARCH INSTITUTE OF THE DESERT               T3   \n",
       "\n",
       "        AFFILIATION CLASSIFICATION      USE_CASE  ORGANIZATION  STATUS  \\\n",
       "0       Independent          C1000    ProductDev   Association       1   \n",
       "1       Independent          C2000  Preservation  Co-operative       1   \n",
       "2  CompanySponsored          C3000    ProductDev   Association       1   \n",
       "3  CompanySponsored          C2000  Preservation         Trust       1   \n",
       "4       Independent          C1000     Heathcare         Trust       1   \n",
       "\n",
       "      INCOME_AMT SPECIAL_CONSIDERATIONS  ASK_AMT  IS_SUCCESSFUL  \n",
       "0              0                      N     5000              1  \n",
       "1         1-9999                      N   108590              1  \n",
       "2              0                      N     5000              0  \n",
       "3    10000-24999                      N     6692              1  \n",
       "4  100000-499999                      N   142590              1  "
      ]
     },
     "execution_count": 1,
     "metadata": {},
     "output_type": "execute_result"
    }
   ],
   "source": [
    "# Import our dependencies\n",
    "import warnings\\\n",
    "\n",
    "warnings.filterwarnings(\"ignore\")\n",
    "from sklearn.model_selection import train_test_split\n",
    "from sklearn.preprocessing import StandardScaler\n",
    "import pandas as pd\n",
    "import tensorflow as tf\n",
    "\n",
    "#  Import and read the charity_data.csv.\n",
    "import pandas as pd \n",
    "application_df = pd.read_csv(\"resources/charity_data.csv\")\n",
    "application_df.head()"
   ]
  },
  {
   "cell_type": "code",
   "execution_count": 2,
   "metadata": {},
   "outputs": [],
   "source": [
    "#Drop unneccessary columns\n",
    "application_df = application_df.drop(['EIN', 'NAME'], axis=1)"
   ]
  },
  {
   "cell_type": "code",
   "execution_count": 3,
   "metadata": {},
   "outputs": [],
   "source": [
    "#Get values\n",
    "app_count = application_df['APPLICATION_TYPE'].value_counts()"
   ]
  },
  {
   "cell_type": "code",
   "execution_count": 4,
   "metadata": {},
   "outputs": [
    {
     "data": {
      "text/plain": [
       "T3       27037\n",
       "Other     2266\n",
       "T4        1542\n",
       "T6        1216\n",
       "T5        1173\n",
       "T19       1065\n",
       "Name: APPLICATION_TYPE, dtype: int64"
      ]
     },
     "execution_count": 4,
     "metadata": {},
     "output_type": "execute_result"
    }
   ],
   "source": [
    "list_index = [i for i, x in enumerate(app_count) if x < 750]\n",
    "application_types_to_replace = [app_count.index[x] for x in list_index]\n",
    "\n",
    "for app in application_types_to_replace:\n",
    "    application_df['APPLICATION_TYPE'] = application_df['APPLICATION_TYPE'].replace(app,\"Other\")\n",
    "# Check to make sure binning was successful\n",
    "application_df['APPLICATION_TYPE'].value_counts()"
   ]
  },
  {
   "cell_type": "code",
   "execution_count": 5,
   "metadata": {},
   "outputs": [
    {
     "data": {
      "text/plain": [
       "C1000    17326\n",
       "C2000     6074\n",
       "C1200     4837\n",
       "Other     4144\n",
       "C3000     1918\n",
       "Name: CLASSIFICATION, dtype: int64"
      ]
     },
     "execution_count": 5,
     "metadata": {},
     "output_type": "execute_result"
    }
   ],
   "source": [
    "class_count = application_df['CLASSIFICATION'].value_counts()\n",
    "\n",
    "list_index_class = [i for i, x in enumerate(class_count) if x < 1900]\n",
    "classifications_to_replace = [class_count.index[x] for x in list_index_class]\n",
    "\n",
    "# Replace in dataframe\n",
    "for cls in classifications_to_replace:\n",
    "    application_df['CLASSIFICATION'] = application_df['CLASSIFICATION'].replace(cls,\"Other\")\n",
    "    \n",
    "# Check to make sure binning was successful\n",
    "application_df['CLASSIFICATION'].value_counts()"
   ]
  },
  {
   "cell_type": "code",
   "execution_count": 6,
   "metadata": {},
   "outputs": [],
   "source": [
    "application_dummies = pd.get_dummies(application_df)"
   ]
  },
  {
   "cell_type": "code",
   "execution_count": 7,
   "metadata": {},
   "outputs": [],
   "source": [
    "# Split our preprocessed data into our features and target arrays\n",
    "y = application_dummies['IS_SUCCESSFUL'].values\n",
    "X = application_dummies.drop(['IS_SUCCESSFUL'], axis = 1)\n",
    "\n",
    "# Split the preprocessed data into a training and testing dataset\n",
    "X_train, X_test, y_train, y_test = train_test_split(X, y, random_state = 42)"
   ]
  },
  {
   "cell_type": "code",
   "execution_count": 8,
   "metadata": {},
   "outputs": [],
   "source": [
    "scaler = StandardScaler()\n",
    "\n",
    "# Fit the StandardScaler\n",
    "X_scaler = scaler.fit(X_train)\n",
    "\n",
    "# Scale the data\n",
    "X_train_scaled = X_scaler.transform(X_train)\n",
    "X_test_scaled = X_scaler.transform(X_test)"
   ]
  },
  {
   "cell_type": "code",
   "execution_count": 9,
   "metadata": {},
   "outputs": [
    {
     "name": "stdout",
     "output_type": "stream",
     "text": [
      "39\n"
     ]
    }
   ],
   "source": [
    "dim= len(X_train_scaled[0])\n",
    "print(dim)"
   ]
  },
  {
   "cell_type": "code",
   "execution_count": 10,
   "metadata": {},
   "outputs": [
    {
     "name": "stdout",
     "output_type": "stream",
     "text": [
      "WARNING:tensorflow:From C:\\Users\\Andrew\\anaconda3\\envs\\venv\\lib\\site-packages\\tensorflow\\python\\ops\\init_ops.py:1251: calling VarianceScaling.__init__ (from tensorflow.python.ops.init_ops) with dtype is deprecated and will be removed in a future version.\n",
      "Instructions for updating:\n",
      "Call initializer instance with the dtype argument instead of passing it to the constructor\n",
      "Model: \"sequential\"\n",
      "_________________________________________________________________\n",
      "Layer (type)                 Output Shape              Param #   \n",
      "=================================================================\n",
      "dense (Dense)                (None, 78)                3120      \n",
      "_________________________________________________________________\n",
      "dense_1 (Dense)              (None, 19)                1501      \n",
      "_________________________________________________________________\n",
      "dense_2 (Dense)              (None, 1)                 20        \n",
      "=================================================================\n",
      "Total params: 4,641\n",
      "Trainable params: 4,641\n",
      "Non-trainable params: 0\n",
      "_________________________________________________________________\n"
     ]
    }
   ],
   "source": [
    "nn = tf.keras.models.Sequential()\n",
    "\n",
    "# First hidden layer\n",
    "nn.add(tf.keras.layers.Dense(units=dim*2, activation=\"relu\", input_dim=dim))\n",
    "# Second hidden layer\n",
    "nn.add(tf.keras.layers.Dense(units=dim/2, activation=\"relu\"))\n",
    "# Output layer\n",
    "nn.add(tf.keras.layers.Dense(units=1, activation=\"sigmoid\"))\n",
    "\n",
    "# Check the structure of the model\n",
    "nn.summary()"
   ]
  },
  {
   "cell_type": "code",
   "execution_count": 11,
   "metadata": {},
   "outputs": [
    {
     "name": "stdout",
     "output_type": "stream",
     "text": [
      "WARNING:tensorflow:From C:\\Users\\Andrew\\anaconda3\\envs\\venv\\lib\\site-packages\\tensorflow\\python\\ops\\nn_impl.py:180: add_dispatch_support.<locals>.wrapper (from tensorflow.python.ops.array_ops) is deprecated and will be removed in a future version.\n",
      "Instructions for updating:\n",
      "Use tf.where in 2.0, which has the same broadcast rule as np.where\n"
     ]
    }
   ],
   "source": [
    "nn.compile(loss=\"binary_crossentropy\", optimizer=\"adam\", metrics=[\"accuracy\"])"
   ]
  },
  {
   "cell_type": "code",
   "execution_count": 12,
   "metadata": {},
   "outputs": [
    {
     "name": "stdout",
     "output_type": "stream",
     "text": [
      "Epoch 1/50\n",
      "25724/25724 [==============================] - 10s 383us/sample - loss: 0.5783 - acc: 0.7178\n",
      "Epoch 2/50\n",
      "25724/25724 [==============================] - 10s 381us/sample - loss: 0.5627 - acc: 0.7254\n",
      "Epoch 3/50\n",
      "25724/25724 [==============================] - 10s 379us/sample - loss: 0.5606 - acc: 0.7270\n",
      "Epoch 4/50\n",
      "25724/25724 [==============================] - 9s 357us/sample - loss: 0.5588 - acc: 0.7262\n",
      "Epoch 5/50\n",
      "25724/25724 [==============================] - 9s 344us/sample - loss: 0.5569 - acc: 0.7280\n",
      "Epoch 6/50\n",
      "25724/25724 [==============================] - 8s 330us/sample - loss: 0.5572 - acc: 0.7281\n",
      "Epoch 7/50\n",
      "25724/25724 [==============================] - 8s 327us/sample - loss: 0.5557 - acc: 0.7291\n",
      "Epoch 8/50\n",
      "25724/25724 [==============================] - 8s 326us/sample - loss: 0.5545 - acc: 0.7298\n",
      "Epoch 9/50\n",
      "25724/25724 [==============================] - 8s 325us/sample - loss: 0.5534 - acc: 0.7294\n",
      "Epoch 10/50\n",
      "25724/25724 [==============================] - 8s 328us/sample - loss: 0.5545 - acc: 0.7309\n",
      "Epoch 11/50\n",
      "25724/25724 [==============================] - 9s 338us/sample - loss: 0.5529 - acc: 0.7313\n",
      "Epoch 12/50\n",
      "25724/25724 [==============================] - 9s 333us/sample - loss: 0.5528 - acc: 0.7304\n",
      "Epoch 13/50\n",
      "25724/25724 [==============================] - 8s 328us/sample - loss: 0.5525 - acc: 0.7302\n",
      "Epoch 14/50\n",
      "25724/25724 [==============================] - 9s 332us/sample - loss: 0.5514 - acc: 0.7307\n",
      "Epoch 15/50\n",
      "25724/25724 [==============================] - 8s 329us/sample - loss: 0.5519 - acc: 0.7316\n",
      "Epoch 16/50\n",
      "25724/25724 [==============================] - 9s 332us/sample - loss: 0.5517 - acc: 0.7313\n",
      "Epoch 17/50\n",
      "25724/25724 [==============================] - 8s 330us/sample - loss: 0.5512 - acc: 0.7311\n",
      "Epoch 18/50\n",
      "25724/25724 [==============================] - 8s 326us/sample - loss: 0.5511 - acc: 0.7325\n",
      "Epoch 19/50\n",
      "25724/25724 [==============================] - 8s 322us/sample - loss: 0.5506 - acc: 0.7318\n",
      "Epoch 20/50\n",
      "25724/25724 [==============================] - 8s 321us/sample - loss: 0.5504 - acc: 0.7320\n",
      "Epoch 21/50\n",
      "25724/25724 [==============================] - 8s 321us/sample - loss: 0.5504 - acc: 0.7325\n",
      "Epoch 22/50\n",
      "25724/25724 [==============================] - 8s 324us/sample - loss: 0.5497 - acc: 0.7325\n",
      "Epoch 23/50\n",
      "25724/25724 [==============================] - 9s 335us/sample - loss: 0.5491 - acc: 0.7333\n",
      "Epoch 24/50\n",
      "25724/25724 [==============================] - 8s 328us/sample - loss: 0.5492 - acc: 0.7330\n",
      "Epoch 25/50\n",
      "25724/25724 [==============================] - 8s 325us/sample - loss: 0.5493 - acc: 0.7324\n",
      "Epoch 26/50\n",
      "25724/25724 [==============================] - 8s 316us/sample - loss: 0.5490 - acc: 0.7339\n",
      "Epoch 27/50\n",
      "25724/25724 [==============================] - 8s 324us/sample - loss: 0.5488 - acc: 0.7340\n",
      "Epoch 28/50\n",
      "25724/25724 [==============================] - 8s 324us/sample - loss: 0.5486 - acc: 0.7330\n",
      "Epoch 29/50\n",
      "25724/25724 [==============================] - 8s 322us/sample - loss: 0.5483 - acc: 0.7343\n",
      "Epoch 30/50\n",
      "25724/25724 [==============================] - 8s 316us/sample - loss: 0.5482 - acc: 0.7339\n",
      "Epoch 31/50\n",
      "25724/25724 [==============================] - 9s 333us/sample - loss: 0.5484 - acc: 0.7328\n",
      "Epoch 32/50\n",
      "25724/25724 [==============================] - 8s 326us/sample - loss: 0.5479 - acc: 0.7340\n",
      "Epoch 33/50\n",
      "25724/25724 [==============================] - 8s 314us/sample - loss: 0.5474 - acc: 0.7331\n",
      "Epoch 34/50\n",
      "25724/25724 [==============================] - 8s 324us/sample - loss: 0.5481 - acc: 0.7338\n",
      "Epoch 35/50\n",
      "25724/25724 [==============================] - 8s 316us/sample - loss: 0.5474 - acc: 0.7345\n",
      "Epoch 36/50\n",
      "25724/25724 [==============================] - 8s 312us/sample - loss: 0.5476 - acc: 0.7349\n",
      "Epoch 37/50\n",
      "25724/25724 [==============================] - 8s 313us/sample - loss: 0.5472 - acc: 0.7351\n",
      "Epoch 38/50\n",
      "25724/25724 [==============================] - 8s 310us/sample - loss: 0.5469 - acc: 0.7341\n",
      "Epoch 39/50\n",
      "25724/25724 [==============================] - 8s 314us/sample - loss: 0.5474 - acc: 0.7348\n",
      "Epoch 40/50\n",
      "25724/25724 [==============================] - 9s 348us/sample - loss: 0.5469 - acc: 0.7355\n",
      "Epoch 41/50\n",
      "25724/25724 [==============================] - 9s 332us/sample - loss: 0.5468 - acc: 0.7345\n",
      "Epoch 42/50\n",
      "25724/25724 [==============================] - 9s 338us/sample - loss: 0.5463 - acc: 0.7343\n",
      "Epoch 43/50\n",
      "25724/25724 [==============================] - 9s 367us/sample - loss: 0.5466 - acc: 0.7344\n",
      "Epoch 44/50\n",
      "25724/25724 [==============================] - 8s 328us/sample - loss: 0.5465 - acc: 0.7349\n",
      "Epoch 45/50\n",
      "25724/25724 [==============================] - 9s 332us/sample - loss: 0.5465 - acc: 0.7344\n",
      "Epoch 46/50\n",
      "25724/25724 [==============================] - 9s 355us/sample - loss: 0.5462 - acc: 0.7353\n",
      "Epoch 47/50\n",
      "25724/25724 [==============================] - 8s 328us/sample - loss: 0.5461 - acc: 0.7358\n",
      "Epoch 48/50\n",
      "25724/25724 [==============================] - 9s 363us/sample - loss: 0.5458 - acc: 0.7342\n",
      "Epoch 49/50\n",
      "25724/25724 [==============================] - 9s 337us/sample - loss: 0.5459 - acc: 0.7356\n",
      "Epoch 50/50\n",
      "25724/25724 [==============================] - 9s 335us/sample - loss: 0.5460 - acc: 0.7358\n"
     ]
    }
   ],
   "source": [
    "#Running model with more frequent app/classifcation\n",
    "mc = tf.keras.callbacks.ModelCheckpoint('training-opt1/weights{epoch:04d}.h5', \n",
    "                                     save_weights_only=True, save_freq=5)\n",
    "fit_model = nn.fit(X_train_scaled, y_train, epochs=50, callbacks=[mc])"
   ]
  },
  {
   "cell_type": "code",
   "execution_count": 13,
   "metadata": {},
   "outputs": [
    {
     "name": "stdout",
     "output_type": "stream",
     "text": [
      "Model: \"sequential_1\"\n",
      "_________________________________________________________________\n",
      "Layer (type)                 Output Shape              Param #   \n",
      "=================================================================\n",
      "dense_3 (Dense)              (None, 78)                3120      \n",
      "_________________________________________________________________\n",
      "dense_4 (Dense)              (None, 19)                1501      \n",
      "_________________________________________________________________\n",
      "dense_5 (Dense)              (None, 9)                 180       \n",
      "_________________________________________________________________\n",
      "dense_6 (Dense)              (None, 1)                 10        \n",
      "=================================================================\n",
      "Total params: 4,811\n",
      "Trainable params: 4,811\n",
      "Non-trainable params: 0\n",
      "_________________________________________________________________\n"
     ]
    }
   ],
   "source": [
    "#Added fourth layer for optimization\n",
    "nn = tf.keras.models.Sequential()\n",
    "\n",
    "# First hidden layer\n",
    "nn.add(tf.keras.layers.Dense(units=dim*2, activation=\"relu\", input_dim=dim))\n",
    "# Second hidden layer\n",
    "nn.add(tf.keras.layers.Dense(units=dim/2, activation=\"relu\"))\n",
    "# Added third layer\n",
    "nn.add(tf.keras.layers.Dense(units=dim/4, activation=\"relu\"))\n",
    "# Output layer\n",
    "nn.add(tf.keras.layers.Dense(units=1, activation=\"sigmoid\"))\n",
    "\n",
    "# Check the structure of the model\n",
    "nn.summary()"
   ]
  },
  {
   "cell_type": "code",
   "execution_count": 15,
   "metadata": {},
   "outputs": [
    {
     "name": "stdout",
     "output_type": "stream",
     "text": [
      "Epoch 1/50\n",
      "25724/25724 [==============================] - 10s 372us/sample - loss: 0.5796 - acc: 0.7158 - loss: 0.5806 - acc: 0.\n",
      "Epoch 2/50\n",
      "25724/25724 [==============================] - 9s 367us/sample - loss: 0.5621 - acc: 0.7255\n",
      "Epoch 3/50\n",
      "25724/25724 [==============================] - 9s 367us/sample - loss: 0.5589 - acc: 0.7284\n",
      "Epoch 4/50\n",
      "25724/25724 [==============================] - 10s 370us/sample - loss: 0.5575 - acc: 0.7287\n",
      "Epoch 5/50\n",
      "25724/25724 [==============================] - 10s 373us/sample - loss: 0.5559 - acc: 0.7301\n",
      "Epoch 6/50\n",
      "25724/25724 [==============================] - 10s 371us/sample - loss: 0.5555 - acc: 0.7303\n",
      "Epoch 7/50\n",
      "25724/25724 [==============================] - 10s 405us/sample - loss: 0.5545 - acc: 0.7305\n",
      "Epoch 8/50\n",
      "25724/25724 [==============================] - 10s 370us/sample - loss: 0.5540 - acc: 0.7310\n",
      "Epoch 9/50\n",
      "25724/25724 [==============================] - 10s 391us/sample - loss: 0.5534 - acc: 0.7313\n",
      "Epoch 10/50\n",
      "25724/25724 [==============================] - 10s 380us/sample - loss: 0.5535 - acc: 0.7311\n",
      "Epoch 11/50\n",
      "25724/25724 [==============================] - 10s 383us/sample - loss: 0.5527 - acc: 0.7327\n",
      "Epoch 12/50\n",
      "25724/25724 [==============================] - 10s 390us/sample - loss: 0.5524 - acc: 0.7318\n",
      "Epoch 13/50\n",
      "25724/25724 [==============================] - 10s 379us/sample - loss: 0.5516 - acc: 0.7317\n",
      "Epoch 14/50\n",
      "25724/25724 [==============================] - 10s 398us/sample - loss: 0.5513 - acc: 0.7326\n",
      "Epoch 15/50\n",
      "25724/25724 [==============================] - 10s 379us/sample - loss: 0.5513 - acc: 0.7321\n",
      "Epoch 16/50\n",
      "25724/25724 [==============================] - 10s 379us/sample - loss: 0.5510 - acc: 0.7330\n",
      "Epoch 17/50\n",
      "25724/25724 [==============================] - 10s 375us/sample - loss: 0.5510 - acc: 0.7334\n",
      "Epoch 18/50\n",
      "25724/25724 [==============================] - 10s 385us/sample - loss: 0.5511 - acc: 0.7323\n",
      "Epoch 19/50\n",
      "25724/25724 [==============================] - 10s 378us/sample - loss: 0.5507 - acc: 0.7332\n",
      "Epoch 20/50\n",
      "25724/25724 [==============================] - 10s 382us/sample - loss: 0.5501 - acc: 0.7325\n",
      "Epoch 21/50\n",
      "25724/25724 [==============================] - 10s 394us/sample - loss: 0.5501 - acc: 0.7337\n",
      "Epoch 22/50\n",
      "25724/25724 [==============================] - 10s 378us/sample - loss: 0.5500 - acc: 0.7338 - loss: 0.5\n",
      "Epoch 23/50\n",
      "25724/25724 [==============================] - 10s 378us/sample - loss: 0.5502 - acc: 0.7322\n",
      "Epoch 24/50\n",
      "25724/25724 [==============================] - 10s 385us/sample - loss: 0.5493 - acc: 0.7332 - loss: 0.5497 -\n",
      "Epoch 25/50\n",
      "25724/25724 [==============================] - 10s 406us/sample - loss: 0.5490 - acc: 0.7343\n",
      "Epoch 26/50\n",
      "25724/25724 [==============================] - 10s 381us/sample - loss: 0.5494 - acc: 0.7345\n",
      "Epoch 27/50\n",
      "25724/25724 [==============================] - 10s 390us/sample - loss: 0.5491 - acc: 0.7339\n",
      "Epoch 28/50\n",
      "25724/25724 [==============================] - 10s 404us/sample - loss: 0.5487 - acc: 0.7345\n",
      "Epoch 29/50\n",
      "25724/25724 [==============================] - 10s 388us/sample - loss: 0.5487 - acc: 0.7334\n",
      "Epoch 30/50\n",
      "25724/25724 [==============================] - 10s 385us/sample - loss: 0.5486 - acc: 0.7343\n",
      "Epoch 31/50\n",
      "25724/25724 [==============================] - 10s 386us/sample - loss: 0.5480 - acc: 0.7343\n",
      "Epoch 32/50\n",
      "25724/25724 [==============================] - 10s 392us/sample - loss: 0.5483 - acc: 0.7347 - loss: 0.5484 - acc: 0.7\n",
      "Epoch 33/50\n",
      "25724/25724 [==============================] - 10s 382us/sample - loss: 0.5484 - acc: 0.7352\n",
      "Epoch 34/50\n",
      "25724/25724 [==============================] - 10s 381us/sample - loss: 0.5478 - acc: 0.7341\n",
      "Epoch 35/50\n",
      "25724/25724 [==============================] - 10s 400us/sample - loss: 0.5477 - acc: 0.7346\n",
      "Epoch 36/50\n",
      "25724/25724 [==============================] - 10s 407us/sample - loss: 0.5477 - acc: 0.7348\n",
      "Epoch 37/50\n",
      "25724/25724 [==============================] - 10s 372us/sample - loss: 0.5479 - acc: 0.7341\n",
      "Epoch 38/50\n",
      "25724/25724 [==============================] - 10s 404us/sample - loss: 0.5474 - acc: 0.7348\n",
      "Epoch 39/50\n",
      "25724/25724 [==============================] - 11s 421us/sample - loss: 0.5475 - acc: 0.7346\n",
      "Epoch 40/50\n",
      "25724/25724 [==============================] - 11s 414us/sample - loss: 0.5476 - acc: 0.7344\n",
      "Epoch 41/50\n",
      "25724/25724 [==============================] - 11s 420us/sample - loss: 0.5471 - acc: 0.7356\n",
      "Epoch 42/50\n",
      "25724/25724 [==============================] - 11s 437us/sample - loss: 0.5468 - acc: 0.7348\n",
      "Epoch 43/50\n",
      "25724/25724 [==============================] - 11s 415us/sample - loss: 0.5472 - acc: 0.7348\n",
      "Epoch 44/50\n",
      "25724/25724 [==============================] - 11s 415us/sample - loss: 0.5472 - acc: 0.7351\n",
      "Epoch 45/50\n",
      "25724/25724 [==============================] - 11s 417us/sample - loss: 0.5469 - acc: 0.7352\n",
      "Epoch 46/50\n",
      "25724/25724 [==============================] - 11s 411us/sample - loss: 0.5464 - acc: 0.7360\n",
      "Epoch 47/50\n",
      "25724/25724 [==============================] - 11s 411us/sample - loss: 0.5462 - acc: 0.7345\n",
      "Epoch 48/50\n",
      "25724/25724 [==============================] - 11s 416us/sample - loss: 0.5470 - acc: 0.7354\n",
      "Epoch 49/50\n",
      "25724/25724 [==============================] - 11s 435us/sample - loss: 0.5464 - acc: 0.7351\n",
      "Epoch 50/50\n",
      "25724/25724 [==============================] - 11s 410us/sample - loss: 0.5465 - acc: 0.7358\n"
     ]
    }
   ],
   "source": [
    "nn.compile(loss=\"binary_crossentropy\", optimizer=\"adam\", metrics=[\"accuracy\"])\n",
    "\n",
    "mc2 = tf.keras.callbacks.ModelCheckpoint('training-opt2/weights{epoch:04d}.h5', \n",
    "                                     save_weights_only=True, save_freq=5)\n",
    "fit_model = nn.fit(X_train_scaled, y_train, epochs=50, callbacks=[mc2])"
   ]
  },
  {
   "cell_type": "code",
   "execution_count": 16,
   "metadata": {},
   "outputs": [],
   "source": [
    "#Trying to get keras to find the best parameters for us\n",
    "def create_model(hp):\n",
    "    nn_model = tf.keras.models.Sequential()\n",
    "\n",
    "    # Allow kerastuner to decide which activation function to use in hidden layers\n",
    "    activation = hp.Choice('activation',['relu','tanh','sigmoid'])\n",
    "    \n",
    "    # Allow kerastuner to decide number of neurons in first layer\n",
    "    nn_model.add(tf.keras.layers.Dense(units=hp.Int('first_units',\n",
    "        min_value=1,\n",
    "        max_value=78,\n",
    "        step=13), activation=activation, input_dim=39))\n",
    "\n",
    "    # Allow kerastuner to decide number of hidden layers and neurons in hidden layers\n",
    "    for i in range(hp.Int('num_layers', 1, 6)):\n",
    "        nn_model.add(tf.keras.layers.Dense(units=hp.Int('units_' + str(i),\n",
    "            min_value=1,\n",
    "            max_value=60,\n",
    "            step=5),\n",
    "            activation=activation))\n",
    "    \n",
    "    nn_model.add(tf.keras.layers.Dense(units=1, activation=\"sigmoid\"))\n",
    "\n",
    "    # Compile the model\n",
    "    nn_model.compile(loss=\"binary_crossentropy\", optimizer='adam', metrics=[\"acc\"])\n",
    "    \n",
    "    return nn_model"
   ]
  },
  {
   "cell_type": "code",
   "execution_count": 17,
   "metadata": {},
   "outputs": [],
   "source": [
    "import kerastuner as kt\n",
    "#create create tuner object to iterate through possibilities\n",
    "tuner = kt.Hyperband(\n",
    "    create_model,\n",
    "    objective=\"val_acc\",\n",
    "    max_epochs=20,\n",
    "    hyperband_iterations=2)"
   ]
  },
  {
   "cell_type": "code",
   "execution_count": 18,
   "metadata": {},
   "outputs": [
    {
     "name": "stdout",
     "output_type": "stream",
     "text": [
      "Trial 60 Complete [00h 00m 18s]\n",
      "val_acc: 0.7302623987197876\n",
      "\n",
      "Best val_acc So Far: 0.7308454513549805\n",
      "Total elapsed time: 00h 07m 49s\n",
      "INFO:tensorflow:Oracle triggered exit\n"
     ]
    }
   ],
   "source": [
    "#Search through params for best case scenario\n",
    "tuner.search(X_train_scaled, y_train,epochs=20, validation_data=(X_test_scaled,y_test))"
   ]
  },
  {
   "cell_type": "code",
   "execution_count": 19,
   "metadata": {},
   "outputs": [
    {
     "data": {
      "text/plain": [
       "{'activation': 'relu',\n",
       " 'first_units': 53,\n",
       " 'num_layers': 2,\n",
       " 'units_0': 31,\n",
       " 'units_1': 51,\n",
       " 'units_2': 36,\n",
       " 'units_3': 26,\n",
       " 'units_4': 31,\n",
       " 'units_5': 36,\n",
       " 'tuner/epochs': 7,\n",
       " 'tuner/initial_epoch': 0,\n",
       " 'tuner/bracket': 1,\n",
       " 'tuner/round': 0}"
      ]
     },
     "execution_count": 19,
     "metadata": {},
     "output_type": "execute_result"
    }
   ],
   "source": [
    "best_hyper = tuner.get_best_hyperparameters(1)[0]\n",
    "best_hyper.values"
   ]
  },
  {
   "cell_type": "code",
   "execution_count": 21,
   "metadata": {},
   "outputs": [
    {
     "name": "stdout",
     "output_type": "stream",
     "text": [
      "8575/8575 - 0s - loss: 0.5589 - acc: 0.7308\n",
      "Loss: 0.5589260859218352, Accuracy: 0.7308454513549805\n"
     ]
    }
   ],
   "source": [
    "#unfortunately the best model isn't better\n",
    "best_model = tuner.get_best_models(1)[0]\n",
    "model_loss, model_accuracy = best_model.evaluate(X_test_scaled,y_test,verbose=2)\n",
    "print(f\"Loss: {model_loss}, Accuracy: {model_accuracy}\")"
   ]
  },
  {
   "cell_type": "code",
   "execution_count": null,
   "metadata": {},
   "outputs": [],
   "source": []
  }
 ],
 "metadata": {
  "kernelspec": {
   "display_name": "Python 3",
   "language": "python",
   "name": "python3"
  },
  "language_info": {
   "codemirror_mode": {
    "name": "ipython",
    "version": 3
   },
   "file_extension": ".py",
   "mimetype": "text/x-python",
   "name": "python",
   "nbconvert_exporter": "python",
   "pygments_lexer": "ipython3",
   "version": "3.6.10"
  }
 },
 "nbformat": 4,
 "nbformat_minor": 4
}
